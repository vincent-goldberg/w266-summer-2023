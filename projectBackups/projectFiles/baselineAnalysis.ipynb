{
 "cells": [
  {
   "cell_type": "code",
   "execution_count": 79,
   "metadata": {},
   "outputs": [],
   "source": [
    "## Libraries and packages\n",
    "\n",
    "import numpy as np\n",
    "import pandas as pd\n",
    "import re"
   ]
  },
  {
   "attachments": {},
   "cell_type": "markdown",
   "metadata": {},
   "source": [
    "## Loading the data"
   ]
  },
  {
   "cell_type": "code",
   "execution_count": 7,
   "metadata": {},
   "outputs": [],
   "source": [
    "raw_train_data = pd.read_csv('../data/train_data.csv')\n",
    "raw_test_data = pd.read_csv('../data/valid_data.csv')"
   ]
  },
  {
   "cell_type": "code",
   "execution_count": 8,
   "metadata": {},
   "outputs": [
    {
     "data": {
      "text/html": [
       "<div>\n",
       "<style scoped>\n",
       "    .dataframe tbody tr th:only-of-type {\n",
       "        vertical-align: middle;\n",
       "    }\n",
       "\n",
       "    .dataframe tbody tr th {\n",
       "        vertical-align: top;\n",
       "    }\n",
       "\n",
       "    .dataframe thead th {\n",
       "        text-align: right;\n",
       "    }\n",
       "</style>\n",
       "<table border=\"1\" class=\"dataframe\">\n",
       "  <thead>\n",
       "    <tr style=\"text-align: right;\">\n",
       "      <th></th>\n",
       "      <th>text</th>\n",
       "      <th>label</th>\n",
       "    </tr>\n",
       "  </thead>\n",
       "  <tbody>\n",
       "    <tr>\n",
       "      <th>0</th>\n",
       "      <td>Here are Thursday's biggest analyst calls: App...</td>\n",
       "      <td>0</td>\n",
       "    </tr>\n",
       "    <tr>\n",
       "      <th>1</th>\n",
       "      <td>Buy Las Vegas Sands as travel to Singapore bui...</td>\n",
       "      <td>0</td>\n",
       "    </tr>\n",
       "    <tr>\n",
       "      <th>2</th>\n",
       "      <td>Piper Sandler downgrades DocuSign to sell, cit...</td>\n",
       "      <td>0</td>\n",
       "    </tr>\n",
       "    <tr>\n",
       "      <th>3</th>\n",
       "      <td>Analysts react to Tesla's latest earnings, bre...</td>\n",
       "      <td>0</td>\n",
       "    </tr>\n",
       "    <tr>\n",
       "      <th>4</th>\n",
       "      <td>Netflix and its peers are set for a ‘return to...</td>\n",
       "      <td>0</td>\n",
       "    </tr>\n",
       "  </tbody>\n",
       "</table>\n",
       "</div>"
      ],
      "text/plain": [
       "                                                text  label\n",
       "0  Here are Thursday's biggest analyst calls: App...      0\n",
       "1  Buy Las Vegas Sands as travel to Singapore bui...      0\n",
       "2  Piper Sandler downgrades DocuSign to sell, cit...      0\n",
       "3  Analysts react to Tesla's latest earnings, bre...      0\n",
       "4  Netflix and its peers are set for a ‘return to...      0"
      ]
     },
     "execution_count": 8,
     "metadata": {},
     "output_type": "execute_result"
    }
   ],
   "source": [
    "raw_train_data.head()"
   ]
  },
  {
   "cell_type": "code",
   "execution_count": 9,
   "metadata": {},
   "outputs": [
    {
     "data": {
      "text/html": [
       "<div>\n",
       "<style scoped>\n",
       "    .dataframe tbody tr th:only-of-type {\n",
       "        vertical-align: middle;\n",
       "    }\n",
       "\n",
       "    .dataframe tbody tr th {\n",
       "        vertical-align: top;\n",
       "    }\n",
       "\n",
       "    .dataframe thead th {\n",
       "        text-align: right;\n",
       "    }\n",
       "</style>\n",
       "<table border=\"1\" class=\"dataframe\">\n",
       "  <thead>\n",
       "    <tr style=\"text-align: right;\">\n",
       "      <th></th>\n",
       "      <th>text</th>\n",
       "      <th>label</th>\n",
       "    </tr>\n",
       "  </thead>\n",
       "  <tbody>\n",
       "    <tr>\n",
       "      <th>0</th>\n",
       "      <td>Analyst call of the day for @CNBCPro subscribe...</td>\n",
       "      <td>0</td>\n",
       "    </tr>\n",
       "    <tr>\n",
       "      <th>1</th>\n",
       "      <td>Loop upgrades CSX to buy, says it's a good pla...</td>\n",
       "      <td>0</td>\n",
       "    </tr>\n",
       "    <tr>\n",
       "      <th>2</th>\n",
       "      <td>BofA believes we're already in a recession — a...</td>\n",
       "      <td>0</td>\n",
       "    </tr>\n",
       "    <tr>\n",
       "      <th>3</th>\n",
       "      <td>JPMorgan sees these derivative plays as best w...</td>\n",
       "      <td>0</td>\n",
       "    </tr>\n",
       "    <tr>\n",
       "      <th>4</th>\n",
       "      <td>Morgan Stanley's Huberty sees Apple earnings m...</td>\n",
       "      <td>0</td>\n",
       "    </tr>\n",
       "  </tbody>\n",
       "</table>\n",
       "</div>"
      ],
      "text/plain": [
       "                                                text  label\n",
       "0  Analyst call of the day for @CNBCPro subscribe...      0\n",
       "1  Loop upgrades CSX to buy, says it's a good pla...      0\n",
       "2  BofA believes we're already in a recession — a...      0\n",
       "3  JPMorgan sees these derivative plays as best w...      0\n",
       "4  Morgan Stanley's Huberty sees Apple earnings m...      0"
      ]
     },
     "execution_count": 9,
     "metadata": {},
     "output_type": "execute_result"
    }
   ],
   "source": [
    "raw_test_data.head()"
   ]
  },
  {
   "cell_type": "code",
   "execution_count": 17,
   "metadata": {},
   "outputs": [
    {
     "data": {
      "text/plain": [
       "array([ 0,  2,  9,  8,  4,  5,  6,  1,  7, 10, 11, 12, 13, 14, 15, 17, 16,\n",
       "       18, 19,  3])"
      ]
     },
     "execution_count": 17,
     "metadata": {},
     "output_type": "execute_result"
    }
   ],
   "source": [
    "raw_train_data.label.unique()"
   ]
  },
  {
   "cell_type": "code",
   "execution_count": 18,
   "metadata": {},
   "outputs": [],
   "source": [
    "## Label list\n",
    "labels = [\"Analyst Update\",\"Fed | Central Banks\",\n",
    "        \"Company | Product News\",\"Treasuries | Corporate Debt\",\n",
    "        \"Dividend\",\"Earnings\",\"Energy | Oil\",\n",
    "        \"Financials\",\"Currencies\",\"General News | Opinion\",\n",
    "        \"Gold | Metals | Materials\",\"IPO\",\"Legal | Regulation\",\n",
    "        \"M&A | Investments\",\"Macro\",\"Markets\",\"Politics\",\n",
    "        \"Personnel Change\",\"Stock Commentary\", \"Stock Movement\"]\n",
    "\n",
    "# Label dictionary \n",
    "# labels = {\"LABEL_0\": \"Analyst Update\",\n",
    "#           \"LABEL_1\": \"Fed | Central Banks\",\n",
    "#           \"LABEL_2\": \"Company | Product News\",\n",
    "#           \"LABEL_3\": \"Treasuries | Corporate Debt\",\n",
    "#           \"LABEL_4\": \"Dividend\",\n",
    "#           \"LABEL_5\": \"Earnings\",\n",
    "#           \"LABEL_6\": \"Energy | Oil\",\n",
    "#           \"LABEL_7\": \"Financials\",\n",
    "#           \"LABEL_8\": \"Currencies\",\n",
    "#           \"LABEL_9\": \"General News | Opinion\",\n",
    "#           \"LABEL_10\": \"Gold | Metals | Materials\",\n",
    "#           \"LABEL_11\": \"IPO\",\n",
    "#           \"LABEL_12\": \"Legal | Regulation\",\n",
    "#           \"LABEL_13\": \"M&A | Investments\",\n",
    "#           \"LABEL_14\": \"Macro\",\n",
    "#           \"LABEL_15\": \"Markets\",\n",
    "#           \"LABEL_16\": \"Politics\",\n",
    "#           \"LABEL_17\": \"Personnel Change\",\n",
    "#           \"LABEL_18\": \"Stock Commentary\",\n",
    "#           \"LABEL_19\": \"Stock Movement\"\n",
    "# }"
   ]
  },
  {
   "attachments": {},
   "cell_type": "markdown",
   "metadata": {},
   "source": [
    "## Data Preprocessing"
   ]
  },
  {
   "cell_type": "code",
   "execution_count": 148,
   "metadata": {},
   "outputs": [],
   "source": [
    "## FUNCTION FOR SAMPLING DATA AND VIEWING RESULTS\n",
    "\n",
    "def preview_random_sample(df, sample_num = 5):\n",
    "    # A function to grab a random sample and display the text and associated labels\n",
    "\n",
    "    # VARIABLES\n",
    "    # df = dataframe\n",
    "    # col_name = name of column to display\n",
    "    # sample_num = number of samples to display\n",
    "\n",
    "    # generating random sample\n",
    "    random_sample = df.sample(sample_num)\n",
    "\n",
    "    # looping over sampple an displaying results\n",
    "    for i, data in enumerate(random_sample.iterrows()):\n",
    "        print(f'RECORD {i+1}')\n",
    "        print(f'Text: {data[1].text}')\n",
    "        print(f'Label: {labels[data[1].label]}\\n')\n",
    "\n",
    "    return 'SAMPLING COMPLETE'"
   ]
  },
  {
   "attachments": {},
   "cell_type": "markdown",
   "metadata": {},
   "source": [
    "#### Previewing data samples"
   ]
  },
  {
   "cell_type": "code",
   "execution_count": 62,
   "metadata": {},
   "outputs": [
    {
     "name": "stdout",
     "output_type": "stream",
     "text": [
      "RECORD 1\n",
      "Text: $DMB - BNY Mellon Municipal Bond Infrastructure Fund goes ex dividend tomorrow  https://t.co/PBp3kdfLJj\n",
      "Label: Dividend\n",
      "\n",
      "RECORD 2\n",
      "Text: Global stock markets down ahead of U.S. inflation data  https://t.co/sc0yVnPN1d\n",
      "Label: Markets\n",
      "\n",
      "RECORD 3\n",
      "Text: $PARA $PARAA $PARAP - How A 15% Yield Creates Losses On Paramount Global Preferred Shares.  https://t.co/3Zud75ViTj #business #economy #investing\n",
      "Label: Stock Commentary\n",
      "\n",
      "RECORD 4\n",
      "Text: $IBKR - Interactive Brokers Q2 earnings miss after daily average revenue trades slip  https://t.co/EBSOYbqZG0\n",
      "Label: Financials\n",
      "\n",
      "RECORD 5\n",
      "Text: The White House expects June’s consumer price index figures to be “highly elevated” as Americans grappled with substantial increases in the cost of gas and food  https://t.co/FjYpouR6la\n",
      "Label: Macro\n",
      "\n",
      "RECORD 6\n",
      "Text: The Dow is up more than 670 points this afternoon  https://t.co/LO3p0AIGKx\n",
      "Label: Markets\n",
      "\n",
      "RECORD 7\n",
      "Text: U.S. Treasury diplomat nominee aims to curb China's lending influence  https://t.co/xSBzrE1vTH  https://t.co/IxNCD0hQju\n",
      "Label: Politics\n",
      "\n",
      "RECORD 8\n",
      "Text: Kite Lake Capital Management (UK) LLP UK Regulatory Announcement: Form 8.3 - Capricorn Energy plc  https://t.co/RlQXQVjcrT  https://t.co/X0B2OO0eck\n",
      "Label: Company | Product News\n",
      "\n",
      "RECORD 9\n",
      "Text: Former Gap CEO: I can't remember seeing this much discounting in retail  https://t.co/QaOOAke44y by @BrianSozzi  https://t.co/2khy9E4z8u\n",
      "Label: Company | Product News\n",
      "\n",
      "RECORD 10\n",
      "Text: PowerSchool to Announce Second Quarter 2022 Financial Results on August 8, 2022  https://t.co/eVqz6aPp2H  https://t.co/Vw348An6XJ\n",
      "Label: Earnings\n",
      "\n"
     ]
    },
    {
     "data": {
      "text/plain": [
       "'SAMPLING COMPLETE'"
      ]
     },
     "execution_count": 62,
     "metadata": {},
     "output_type": "execute_result"
    }
   ],
   "source": [
    "preview_random_sample(raw_train_data, sample_num=10)"
   ]
  },
  {
   "attachments": {},
   "cell_type": "markdown",
   "metadata": {},
   "source": [
    "#### Removing links"
   ]
  },
  {
   "cell_type": "code",
   "execution_count": 77,
   "metadata": {},
   "outputs": [
    {
     "name": "stdout",
     "output_type": "stream",
     "text": [
      "Here are Thursday's biggest analyst calls: Apple, Amazon, Tesla, Palantir, DocuSign, Exxon &amp; more  https://t.co/QPN8Gwl7Uh\n"
     ]
    }
   ],
   "source": [
    "t = raw_train_data.iloc[0]\n",
    "print(t.text)"
   ]
  },
  {
   "cell_type": "code",
   "execution_count": 83,
   "metadata": {},
   "outputs": [],
   "source": [
    "t1 = re.sub(r'http\\S+', '', str(t.text))"
   ]
  },
  {
   "cell_type": "code",
   "execution_count": 84,
   "metadata": {},
   "outputs": [
    {
     "data": {
      "text/plain": [
       "\"Here are Thursday's biggest analyst calls: Apple, Amazon, Tesla, Palantir, DocuSign, Exxon &amp; more  \""
      ]
     },
     "execution_count": 84,
     "metadata": {},
     "output_type": "execute_result"
    }
   ],
   "source": [
    "t1"
   ]
  },
  {
   "cell_type": "code",
   "execution_count": 85,
   "metadata": {},
   "outputs": [
    {
     "data": {
      "text/plain": [
       "'Kite Lake Capital Management (UK) LLP UK Regulatory Announcement: Form 8.3 - Capricorn Energy plc    '"
      ]
     },
     "execution_count": 85,
     "metadata": {},
     "output_type": "execute_result"
    }
   ],
   "source": [
    "t2 = 'Kite Lake Capital Management (UK) LLP UK Regulatory Announcement: Form 8.3 - Capricorn Energy plc  https://t.co/RlQXQVjcrT  https://t.co/X0B2OO0eck'\n",
    "t3 = re.sub(r'http\\S+','',t2)\n",
    "t3"
   ]
  },
  {
   "cell_type": "code",
   "execution_count": 94,
   "metadata": {},
   "outputs": [],
   "source": [
    "## Function for removing links from text\n",
    "\n",
    "def remove_links(df, num_links = 5):\n",
    "    # VARIABLES:\n",
    "    # df = dataframe column to iterate over\n",
    "    # num_links = count of regex matches to remove\n",
    "\n",
    "    cleaned_text = []\n",
    "\n",
    "    for record in df:\n",
    "        cleaned_record = re.sub(r'http\\S+','',record)\n",
    "        cleaned_text.append(cleaned_record)\n",
    "    \n",
    "    return cleaned_text\n"
   ]
  },
  {
   "cell_type": "code",
   "execution_count": 138,
   "metadata": {},
   "outputs": [],
   "source": [
    "## Removing links from train data\n",
    "clean_train_text = remove_links(raw_train_data['text'])\n",
    "clean_test_text = remove_links(raw_test_data['text'])"
   ]
  },
  {
   "cell_type": "code",
   "execution_count": 139,
   "metadata": {},
   "outputs": [],
   "source": [
    "clean_train_text = pd.DataFrame(clean_train_text, columns = ['Tweets'])\n",
    "clean_test_text = pd.DataFrame(clean_test_text, columns = ['Tweets'])\n",
    "# cleaned_train_data = raw_train_data.copy()\n",
    "# cleaned_test_data = raw_test_data.copy()"
   ]
  },
  {
   "cell_type": "code",
   "execution_count": 146,
   "metadata": {},
   "outputs": [
    {
     "data": {
      "text/html": [
       "<div>\n",
       "<style scoped>\n",
       "    .dataframe tbody tr th:only-of-type {\n",
       "        vertical-align: middle;\n",
       "    }\n",
       "\n",
       "    .dataframe tbody tr th {\n",
       "        vertical-align: top;\n",
       "    }\n",
       "\n",
       "    .dataframe thead th {\n",
       "        text-align: right;\n",
       "    }\n",
       "</style>\n",
       "<table border=\"1\" class=\"dataframe\">\n",
       "  <thead>\n",
       "    <tr style=\"text-align: right;\">\n",
       "      <th></th>\n",
       "      <th>old text</th>\n",
       "      <th>label</th>\n",
       "      <th>text</th>\n",
       "    </tr>\n",
       "  </thead>\n",
       "  <tbody>\n",
       "    <tr>\n",
       "      <th>0</th>\n",
       "      <td>Here are Thursday's biggest analyst calls: App...</td>\n",
       "      <td>0</td>\n",
       "      <td>Here are Thursday's biggest analyst calls: App...</td>\n",
       "    </tr>\n",
       "    <tr>\n",
       "      <th>1</th>\n",
       "      <td>Buy Las Vegas Sands as travel to Singapore bui...</td>\n",
       "      <td>0</td>\n",
       "      <td>Buy Las Vegas Sands as travel to Singapore bui...</td>\n",
       "    </tr>\n",
       "    <tr>\n",
       "      <th>2</th>\n",
       "      <td>Piper Sandler downgrades DocuSign to sell, cit...</td>\n",
       "      <td>0</td>\n",
       "      <td>Piper Sandler downgrades DocuSign to sell, cit...</td>\n",
       "    </tr>\n",
       "    <tr>\n",
       "      <th>3</th>\n",
       "      <td>Analysts react to Tesla's latest earnings, bre...</td>\n",
       "      <td>0</td>\n",
       "      <td>Analysts react to Tesla's latest earnings, bre...</td>\n",
       "    </tr>\n",
       "    <tr>\n",
       "      <th>4</th>\n",
       "      <td>Netflix and its peers are set for a ‘return to...</td>\n",
       "      <td>0</td>\n",
       "      <td>Netflix and its peers are set for a ‘return to...</td>\n",
       "    </tr>\n",
       "  </tbody>\n",
       "</table>\n",
       "</div>"
      ],
      "text/plain": [
       "                                            old text  label  \\\n",
       "0  Here are Thursday's biggest analyst calls: App...      0   \n",
       "1  Buy Las Vegas Sands as travel to Singapore bui...      0   \n",
       "2  Piper Sandler downgrades DocuSign to sell, cit...      0   \n",
       "3  Analysts react to Tesla's latest earnings, bre...      0   \n",
       "4  Netflix and its peers are set for a ‘return to...      0   \n",
       "\n",
       "                                                text  \n",
       "0  Here are Thursday's biggest analyst calls: App...  \n",
       "1  Buy Las Vegas Sands as travel to Singapore bui...  \n",
       "2  Piper Sandler downgrades DocuSign to sell, cit...  \n",
       "3  Analysts react to Tesla's latest earnings, bre...  \n",
       "4  Netflix and its peers are set for a ‘return to...  "
      ]
     },
     "metadata": {},
     "output_type": "display_data"
    },
    {
     "data": {
      "text/html": [
       "<div>\n",
       "<style scoped>\n",
       "    .dataframe tbody tr th:only-of-type {\n",
       "        vertical-align: middle;\n",
       "    }\n",
       "\n",
       "    .dataframe tbody tr th {\n",
       "        vertical-align: top;\n",
       "    }\n",
       "\n",
       "    .dataframe thead th {\n",
       "        text-align: right;\n",
       "    }\n",
       "</style>\n",
       "<table border=\"1\" class=\"dataframe\">\n",
       "  <thead>\n",
       "    <tr style=\"text-align: right;\">\n",
       "      <th></th>\n",
       "      <th>new text</th>\n",
       "      <th>label</th>\n",
       "      <th>text</th>\n",
       "    </tr>\n",
       "  </thead>\n",
       "  <tbody>\n",
       "    <tr>\n",
       "      <th>0</th>\n",
       "      <td>Analyst call of the day for @CNBCPro subscribe...</td>\n",
       "      <td>0</td>\n",
       "      <td>Analyst call of the day for @CNBCPro subscribe...</td>\n",
       "    </tr>\n",
       "    <tr>\n",
       "      <th>1</th>\n",
       "      <td>Loop upgrades CSX to buy, says it's a good pla...</td>\n",
       "      <td>0</td>\n",
       "      <td>Loop upgrades CSX to buy, says it's a good pla...</td>\n",
       "    </tr>\n",
       "    <tr>\n",
       "      <th>2</th>\n",
       "      <td>BofA believes we're already in a recession — a...</td>\n",
       "      <td>0</td>\n",
       "      <td>BofA believes we're already in a recession — a...</td>\n",
       "    </tr>\n",
       "    <tr>\n",
       "      <th>3</th>\n",
       "      <td>JPMorgan sees these derivative plays as best w...</td>\n",
       "      <td>0</td>\n",
       "      <td>JPMorgan sees these derivative plays as best w...</td>\n",
       "    </tr>\n",
       "    <tr>\n",
       "      <th>4</th>\n",
       "      <td>Morgan Stanley's Huberty sees Apple earnings m...</td>\n",
       "      <td>0</td>\n",
       "      <td>Morgan Stanley's Huberty sees Apple earnings m...</td>\n",
       "    </tr>\n",
       "  </tbody>\n",
       "</table>\n",
       "</div>"
      ],
      "text/plain": [
       "                                            new text  label  \\\n",
       "0  Analyst call of the day for @CNBCPro subscribe...      0   \n",
       "1  Loop upgrades CSX to buy, says it's a good pla...      0   \n",
       "2  BofA believes we're already in a recession — a...      0   \n",
       "3  JPMorgan sees these derivative plays as best w...      0   \n",
       "4  Morgan Stanley's Huberty sees Apple earnings m...      0   \n",
       "\n",
       "                                                text  \n",
       "0  Analyst call of the day for @CNBCPro subscribe...  \n",
       "1  Loop upgrades CSX to buy, says it's a good pla...  \n",
       "2  BofA believes we're already in a recession — a...  \n",
       "3  JPMorgan sees these derivative plays as best w...  \n",
       "4  Morgan Stanley's Huberty sees Apple earnings m...  "
      ]
     },
     "metadata": {},
     "output_type": "display_data"
    }
   ],
   "source": [
    "cleaned_train_data = pd.concat([raw_train_data.copy(), clean_train_text], axis = 1)\n",
    "cleaned_train_data.columns = ['old text', 'label', 'text']\n",
    "cleaned_test_data = pd.concat([raw_test_data.copy(), clean_test_text], axis = 1)\n",
    "cleaned_test_data.columns = ['old text', 'label', 'text']\n",
    "\n",
    "display(cleaned_train_data.head())\n",
    "display(cleaned_test_data.head()) \n"
   ]
  },
  {
   "cell_type": "code",
   "execution_count": 163,
   "metadata": {},
   "outputs": [
    {
     "name": "stdout",
     "output_type": "stream",
     "text": [
      "RECORD 1\n",
      "Text: $AFRM with a gap up triangle base break up and out today. None here.  Seems I saw the chart in @traderstewie stream recently.\n",
      "Label: Stock Commentary\n",
      "\n",
      "RECORD 2\n",
      "Text: A cutoff in Russian natural gas supplies could result in a hit of as much as 2.65% to the European Union’s economy, according to an IMF working paper  \n",
      "Label: Macro\n",
      "\n",
      "RECORD 3\n",
      "Text: China’s property downturn showed little signs of improvement in the three months through June  \n",
      "Label: Macro\n",
      "\n",
      "RECORD 4\n",
      "Text: $TPC - Tutor Perini: Time To Execute.   #stocks #markets #trading\n",
      "Label: Stock Commentary\n",
      "\n",
      "RECORD 5\n",
      "Text: Crunch time has finally arrived for Joe Biden’s economic agenda  \n",
      "Label: Politics\n",
      "\n"
     ]
    },
    {
     "data": {
      "text/plain": [
       "'SAMPLING COMPLETE'"
      ]
     },
     "execution_count": 163,
     "metadata": {},
     "output_type": "execute_result"
    }
   ],
   "source": [
    "## Previewing cleaned tweets\n",
    "preview_random_sample(cleaned_train_data, sample_num = 5)"
   ]
  },
  {
   "cell_type": "code",
   "execution_count": 164,
   "metadata": {},
   "outputs": [
    {
     "name": "stdout",
     "output_type": "stream",
     "text": [
      "RECORD 1\n",
      "Text: Midstream/MLPs: Free Cash Flow Powerhouse.   #stockmarket #economy #stocks\n",
      "Label: Stock Commentary\n",
      "\n",
      "RECORD 2\n",
      "Text: CHINESE CITY QINGDAO TO HOLD RCEP HIGH-LEVEL FORUM ON ECONOMIC, TRADE COOPERATION ON JULY 27-29 - STATE MEDIA\n",
      "Label: Macro\n",
      "\n",
      "RECORD 3\n",
      "Text: Uber is being sued by hundreds of women who claim they were sexually assaulted by drivers  \n",
      "Label: Legal | Regulation\n",
      "\n",
      "RECORD 4\n",
      "Text: $CRTO - Berenberg reduced Criteo estimates to reflect significant currency headwinds  \n",
      "Label: Analyst Update\n",
      "\n",
      "RECORD 5\n",
      "Text: Three people have been charged in New York with conspiring to illegally possess about 100 pages of manuscripts related to the Eagles album “Hotel California”  \n",
      "Label: Legal | Regulation\n",
      "\n"
     ]
    },
    {
     "data": {
      "text/plain": [
       "'SAMPLING COMPLETE'"
      ]
     },
     "execution_count": 164,
     "metadata": {},
     "output_type": "execute_result"
    }
   ],
   "source": [
    "## Previewing cleaned tweets\n",
    "preview_random_sample(cleaned_test_data, sample_num = 5)"
   ]
  },
  {
   "cell_type": "code",
   "execution_count": null,
   "metadata": {},
   "outputs": [],
   "source": []
  }
 ],
 "metadata": {
  "kernelspec": {
   "display_name": "NLPenv",
   "language": "python",
   "name": "python3"
  },
  "language_info": {
   "codemirror_mode": {
    "name": "ipython",
    "version": 3
   },
   "file_extension": ".py",
   "mimetype": "text/x-python",
   "name": "python",
   "nbconvert_exporter": "python",
   "pygments_lexer": "ipython3",
   "version": "3.9.16"
  },
  "orig_nbformat": 4
 },
 "nbformat": 4,
 "nbformat_minor": 2
}
